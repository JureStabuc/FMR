{
 "cells": [
  {
   "cell_type": "code",
   "execution_count": 12,
   "metadata": {
    "collapsed": true
   },
   "outputs": [],
   "source": [
    "import spacy\n",
    "from spacy.en import English"
   ]
  },
  {
   "cell_type": "code",
   "execution_count": 17,
   "metadata": {},
   "outputs": [
    {
     "name": "stdout",
     "output_type": "stream",
     "text": [
      "Jure - not a person\n",
      "Stabuc - not a person\n",
      "23 - not a person\n",
      "year - not a person\n",
      "old - not a person\n"
     ]
    }
   ],
   "source": [
    "nlp = spacy.load('en')\n",
    "sent = nlp('Jure Stabuc 23 year old')\n",
    "\n",
    "for token in sent:\n",
    "    if token.ent_type_ == 'PERSON':\n",
    "        print (token.text + \" - person\")\n",
    "        \n",
    "    else:\n",
    "        print (token.text + \" - not a person\")\n",
    "# name = [token.text for token in sent if token.ent_type_ == 'PERSON']\n",
    "\n",
    "# print(name)\n",
    "\n",
    "# \" \".join(name)\n",
    "\n",
    "# print(\" \".join([token for token in sent if token.ent_type_ == 'PERSON']))\n",
    "\n",
    "\n"
   ]
  },
  {
   "cell_type": "code",
   "execution_count": null,
   "metadata": {
    "collapsed": true
   },
   "outputs": [],
   "source": []
  }
 ],
 "metadata": {
  "kernelspec": {
   "display_name": "Python 3",
   "language": "python",
   "name": "python3"
  },
  "language_info": {
   "codemirror_mode": {
    "name": "ipython",
    "version": 3
   },
   "file_extension": ".py",
   "mimetype": "text/x-python",
   "name": "python",
   "nbconvert_exporter": "python",
   "pygments_lexer": "ipython3",
   "version": "3.5.2"
  }
 },
 "nbformat": 4,
 "nbformat_minor": 2
}
