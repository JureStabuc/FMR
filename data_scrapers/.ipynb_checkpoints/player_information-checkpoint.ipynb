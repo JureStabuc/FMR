{
 "cells": [
  {
   "cell_type": "code",
   "execution_count": 1,
   "metadata": {
    "collapsed": true
   },
   "outputs": [],
   "source": [
    "#import libraries\n",
    "#selenium automates Chrome browser as whoscored.com detects scrapers\n",
    "from selenium import webdriver\n",
    "#import options to add add block extension\n",
    "from selenium.webdriver.chrome.options import Options\n",
    "import requests\n",
    "from bs4 import BeautifulSoup as BS\n",
    "import re\n",
    "import csv\n",
    "import time\n",
    "import json\n"
   ]
  },
  {
   "cell_type": "code",
   "execution_count": 2,
   "metadata": {},
   "outputs": [
    {
     "data": {
      "text/plain": [
       "<selenium.webdriver.chrome.options.Options at 0x1055bbe10>"
      ]
     },
     "execution_count": 2,
     "metadata": {},
     "output_type": "execute_result"
    }
   ],
   "source": [
    "#Ad block extension has to be used on whoscored.com with selenium as the page loads faster without ads\n",
    "#Instructions https://www.reddit.com/r/learnpython/comments/4zzn69/how_do_i_get_adblockplus_to_work_with_selenium/\n",
    "path_to_extension = \"path to the ad_block extension\"\n",
    "chrome_options = Options()\n",
    "chrome_options.add_argument('load-extension=' + path_to_extension)\n",
    "driver = webdriver.Chrome(\"./chromedriver\", chrome_options=chrome_options)\n",
    "driver.create_options()\n"
   ]
  },
  {
   "cell_type": "code",
   "execution_count": 3,
   "metadata": {
    "collapsed": true
   },
   "outputs": [],
   "source": [
    "#open the page with all clubs of the 2016/17 English Premier League with selenium\n",
    "driver.get(\"https://www.whoscored.com/Regions/252/Tournaments/2/Seasons/6335/England-Premier-League\")\n"
   ]
  },
  {
   "cell_type": "code",
   "execution_count": 4,
   "metadata": {},
   "outputs": [
    {
     "data": {
      "text/plain": [
       "<selenium.webdriver.remote.webelement.WebElement (session=\"c29e14ec2d4ab0dff01660471c0ee41a\", element=\"0.7808336160927478-1\")>"
      ]
     },
     "execution_count": 4,
     "metadata": {},
     "output_type": "execute_result"
    }
   ],
   "source": [
    "#find the table with the teams to access the team sheet\n",
    "table = driver.find_element_by_xpath('.//tbody[@id=\"standings-13796-content\"]')\n"
   ]
  },
  {
   "cell_type": "code",
   "execution_count": 5,
   "metadata": {
    "collapsed": true
   },
   "outputs": [],
   "source": [
    "#find the links to team sheets\n",
    "links = table.find_elements_by_class_name('team-link')"
   ]
  },
  {
   "cell_type": "code",
   "execution_count": 7,
   "metadata": {
    "collapsed": true
   },
   "outputs": [],
   "source": [
    "team_links = []"
   ]
  },
  {
   "cell_type": "code",
   "execution_count": 2,
   "metadata": {
    "collapsed": true
   },
   "outputs": [],
   "source": [
    "#loop through the links and append it to the team_links array\n",
    "for link in links:\n",
    "    team_links.append(link.get_attribute('href'))\n",
    "    print(link.get_attribute('href'))\n",
    "    time.sleep(2)"
   ]
  },
  {
   "cell_type": "code",
   "execution_count": 3,
   "metadata": {
    "collapsed": true
   },
   "outputs": [],
   "source": [
    "players = []\n",
    "#loop through the team_links array\n",
    "for team_link in team_links:\n",
    "    driver.get(team_link)\n",
    "    time.sleep(5)\n",
    "    #navigate to the 2016/17 English Premier League season\n",
    "    history = driver.find_element_by_link_text(\"History\").click()\n",
    "    time.sleep(5)\n",
    "    #find the table with players\n",
    "    table = driver.find_element_by_id(\"team-squad-archive-stats\")\n",
    "    #find the links to player detail within the table\n",
    "    player_links = table.find_elements_by_class_name('player-link')\n",
    "    #loop through the links to player detail\n",
    "    for player_link in player_links:\n",
    "        #find and append the link to a single player to players array\n",
    "        players.append(player_link.get_attribute('href'))\n",
    "        time.sleep(5)\n",
    "    time.sleep(5)"
   ]
  },
  {
   "cell_type": "code",
   "execution_count": 4,
   "metadata": {
    "collapsed": true
   },
   "outputs": [],
   "source": [
    "#open and create a csv file that will hold player detail information\n",
    "with open(\"../data/player_data/players.csv\", \"w\") as player_data:\n",
    "    #create headers\n",
    "    fields = [\"name\", \"positions\", \"age\", \"nationality\"]\n",
    "    writer = csv.DictWriter(player_data, fields)\n",
    "    writer.writeheader()\n",
    "    #loop through every player detail link\n",
    "    for player in players:\n",
    "        #navigate to the page\n",
    "        driver.get(player)\n",
    "        time.sleep(15)\n",
    "        html = driver.page_source\n",
    "        soup = BS(html, \"html.parser\")\n",
    "        #dictionary that will hold information\n",
    "        data = {\n",
    "            \"name\":[],\n",
    "            \"positions\":[],\n",
    "            \"age\":[],\n",
    "            \"nationality\":[]               \n",
    "        }\n",
    "        #find the information on the website\n",
    "        player_info = soup.find_all(\"dd\")\n",
    "        try:\n",
    "            #write the row to the csv file\n",
    "            if  len(player_info) == 11:\n",
    "\n",
    "                data[\"name\"].append(player_info[0].text.strip())\n",
    "                data[\"positions\"].append(player_info[3].text.strip())\n",
    "                data[\"age\"].append(player_info[4].text.strip())\n",
    "                data[\"nationality\"].append(player_info[7].text.strip())\n",
    "\n",
    "                row = {\"name\":data[\"name\"][0], \"positions\":data[\"positions\"][0], \"age\":data[\"age\"][0], \"nationality\": data[\"nationality\"][0]}\n",
    "                writer.writerow(row)\n",
    "                print(row)\n",
    "                time.sleep(15)\n",
    "\n",
    "            else:\n",
    "                data[\"name\"].append(player_info[0].text.strip())\n",
    "                data[\"positions\"].append(player_info[4].text.strip())\n",
    "                data[\"age\"].append(player_info[5].text.strip())\n",
    "                data[\"nationality\"].append(player_info[8].text.strip())\n",
    "\n",
    "                row = {\"name\":data[\"name\"][0], \"positions\":data[\"positions\"][0], \"age\":data[\"age\"][0], \"nationality\": data[\"nationality\"][0]}\n",
    "                writer.writerow(row)\n",
    "                print(row)\n",
    "                time.sleep(15)\n",
    "        except IndexError:\n",
    "            pass\n",
    "        time.sleep(10)\n",
    "\n"
   ]
  },
  {
   "cell_type": "code",
   "execution_count": null,
   "metadata": {
    "collapsed": true
   },
   "outputs": [],
   "source": []
  }
 ],
 "metadata": {
  "kernelspec": {
   "display_name": "Python 3",
   "language": "python",
   "name": "python3"
  },
  "language_info": {
   "codemirror_mode": {
    "name": "ipython",
    "version": 3
   },
   "file_extension": ".py",
   "mimetype": "text/x-python",
   "name": "python",
   "nbconvert_exporter": "python",
   "pygments_lexer": "ipython3",
   "version": "3.5.2"
  }
 },
 "nbformat": 4,
 "nbformat_minor": 2
}
