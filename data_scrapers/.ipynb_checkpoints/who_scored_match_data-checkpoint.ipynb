{
 "cells": [
  {
   "cell_type": "code",
   "execution_count": 38,
   "metadata": {
    "collapsed": true
   },
   "outputs": [],
   "source": [
    "#importing the needed libraries\n",
    "import requests\n",
    "from bs4 import BeautifulSoup as BS\n",
    "import re\n",
    "import time\n",
    "#python3 compatible way to bypass sites guarded with Incapsula https://github.com/ziplokk1/incapsula-cracker-py3\n",
    "from incapsula import IncapSession\n",
    "import json"
   ]
  },
  {
   "cell_type": "code",
   "execution_count": 39,
   "metadata": {
    "collapsed": true
   },
   "outputs": [],
   "source": [
    "session = IncapSession()"
   ]
  },
  {
   "cell_type": "code",
   "execution_count": 89,
   "metadata": {
    "collapsed": true
   },
   "outputs": [],
   "source": [
    "#links of matches to be scraped \n",
    "links = [\n",
    "    'https://www.whoscored.com/Matches/1080845/Live/England-Premier-League-2016-2017-Leicester-Tottenham',\n",
    "    \"https://www.whoscored.com/Matches/1080550/Live/England-Premier-League-2016-2017-Manchester-United-Manchester-City\",\n",
    "    \"https://www.whoscored.com/Matches/1080837/Live/England-Premier-League-2016-2017-West-Bromwich-Albion-Chelsea\",\n",
    "    \"https://www.whoscored.com/Matches/1080506/Live/England-Premier-League-2016-2017-Arsenal-Liverpool\",\n",
    "    \"https://www.whoscored.com/Matches/1080588/Live/England-Premier-League-2016-2017-Chelsea-Manchester-United\",\n",
    "    \"https://www.whoscored.com/Matches/1080575/Live/England-Premier-League-2016-2017-West-Ham-Southampton\",\n",
    "    \"https://www.whoscored.com/Matches/1080589/Live/England-Premier-League-2016-2017-Leicester-Southampton\",\n",
    "    \"https://www.whoscored.com/Matches/1080576/Live/England-Premier-League-2016-2017-Liverpool-Manchester-United\",\n",
    "    \"https://www.whoscored.com/Matches/1080618/Live/England-Premier-League-2016-2017-Burnley-Crystal-Palace\",\n",
    "    \"https://www.whoscored.com/Matches/1080633/Live/England-Premier-League-2016-2017-Manchester-United-Arsenal\",\n",
    "    \"https://www.whoscored.com/Matches/1080628/Live/England-Premier-League-2016-2017-Swansea-Crystal-Palace\",\n",
    "    \"https://www.whoscored.com/Matches/1080832/Live/England-Premier-League-2016-2017-Bournemouth-West-Ham\",\n",
    "    \"https://www.whoscored.com/Matches/1080783/Live/England-Premier-League-2016-2017-Chelsea-Crystal-Palace\",\n",
    "    \"https://www.whoscored.com/Matches/1080640/Live/England-Premier-League-2016-2017-Manchester-City-Chelsea\",\n",
    "    \"https://www.whoscored.com/Matches/1080693/Live/England-Premier-League-2016-2017-Liverpool-West-Ham\",\n",
    "    \"https://www.whoscored.com/Matches/1080728/Live/England-Premier-League-2016-2017-Watford-Tottenham\",\n",
    "    \"https://www.whoscored.com/Matches/1080671/Live/England-Premier-League-2016-2017-Manchester-City-Burnley\",\n",
    "    \"https://www.whoscored.com/Matches/1080732/Live/England-Premier-League-2016-2017-Bournemouth-Arsenal\",\n",
    "    \"https://www.whoscored.com/Matches/1080699/Live/England-Premier-League-2016-2017-Burnley-Southampton\",\n",
    "    \"https://www.whoscored.com/Matches/1080739/Live/England-Premier-League-2016-2017-Arsenal-Burnley\"\n",
    "]"
   ]
  },
  {
   "cell_type": "code",
   "execution_count": 1,
   "metadata": {
    "collapsed": true
   },
   "outputs": [],
   "source": [
    "#loop through the links array\n",
    "for link in links:\n",
    "    try:\n",
    "        #get the page in the array\n",
    "        response = session.get(link).text\n",
    "        #define the index to name the data when saving to file\n",
    "        index = str(links.index(link) + 1)\n",
    "        #parse the page\n",
    "        soup = BS(response, \"html.parser\")\n",
    "        #find the variable that hold match data\n",
    "        match_data = soup.find(\"script\", text=re.compile('matchCentreData'))\n",
    "        data = re.search(r\"var matchCentreData = (.*?);\", match_data.text).group(1)\n",
    "        #decoding match data to json\n",
    "        data_str = json.loads(data)\n",
    "        #encoding and writing the data to a json file\n",
    "        with open(\"../data/match_data\" + index + \".json\", \"w\") as f:\n",
    "             json.dump(data_str, f)\n",
    "    except IncapBlocked as e:\n",
    "        raise\n",
    "    "
   ]
  },
  {
   "cell_type": "code",
   "execution_count": null,
   "metadata": {
    "collapsed": true
   },
   "outputs": [],
   "source": []
  }
 ],
 "metadata": {
  "kernelspec": {
   "display_name": "Python 3",
   "language": "python",
   "name": "python3"
  },
  "language_info": {
   "codemirror_mode": {
    "name": "ipython",
    "version": 3
   },
   "file_extension": ".py",
   "mimetype": "text/x-python",
   "name": "python",
   "nbconvert_exporter": "python",
   "pygments_lexer": "ipython3",
   "version": "3.5.2"
  }
 },
 "nbformat": 4,
 "nbformat_minor": 2
}
